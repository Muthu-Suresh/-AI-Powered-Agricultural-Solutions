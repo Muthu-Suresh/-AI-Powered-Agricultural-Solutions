import pandas as pd
import numpy as np
import nltk
from fuzzywuzzy import process
from sklearn.model_selection import train_test_split
from sklearn.metrics import accuracy_score, classification_report
from sklearn.preprocessing import LabelEncoder, StandardScaler
from imblearn.over_sampling import RandomOverSampler
from sklearn.ensemble import RandomForestClassifier
from catboost import CatBoostClassifier
from xgboost import XGBClassifier
from sklearn.linear_model import LogisticRegression
from sklearn.ensemble import StackingClassifier

# Load dataset
dataset_path = r"C:\Users\muthu\OneDrive\Desktop\crop_recommendation_dataset_improved.csv"
df = pd.read_csv(dataset_path) # Changed pd.read_csv.csv to pd.read_csv
df = df.dropna()
# Encode categorical features
label_encoders = {}
for col in ["Soil Type", "Previous Crop", "Rainfall Frequency", "Porosity", "Recommended Crop"]:
    le = LabelEncoder()
    df[col] = le.fit_transform(df[col])
    label_encoders[col] = le

# Define features and target
X = df[["Soil Type", "Previous Crop", "Acre of Land", "Rainfall Frequency", "Porosity"]]
y = df["Recommended Crop"]

# Scale numeric features
scaler = StandardScaler()
X[["Acre of Land"]] = scaler.fit_transform(X[["Acre of Land"]])

# Handle class imbalance using oversampling
ros = RandomOverSampler(random_state=42)
X_resampled, y_resampled = ros.fit_resample(X, y)

# Train-test split
X_train, X_test, y_train, y_test = train_test_split(X_resampled, y_resampled, test_size=0.2, random_state=42, stratify=y_resampled)
# Define base learners
base_learners = [
    ('rf', RandomForestClassifier(n_estimators=200, random_state=42)),
    ('xgb', XGBClassifier(n_estimators=200, learning_rate=0.05, eval_metric='mlogloss')),  # Removed use_label_encoder=False
    ('cat', CatBoostClassifier(iterations=500, depth=10, learning_rate=0.03, loss_function='MultiClass', verbose=0))
]

# Define Stacking Classifier
stacking_model = StackingClassifier(estimators=base_learners, final_estimator=LogisticRegression())

# Train Stacking Classifier
stacking_model.fit(X_train, y_train)

# Predict on test data
y_pred = stacking_model.predict(X_test)

# Evaluate accuracy
accuracy = accuracy_score(y_test, y_pred)
print(f"Stacking Classifier Accuracy: {accuracy * 100:.2f}%")
print(classification_report(y_test, y_pred))
# Function to process user input with NLP
def process_input(user_input, category):
    valid_values = list(label_encoders[category].classes_)
    matched_value, _ = process.extractOne(user_input, valid_values)
    return label_encoders[category].transform([matched_value])[0]

# Function to predict crop
def recommend_crop(soil_type, previous_crop, rainfall_frequency, porosity):
    input_data = np.array([[soil_type, previous_crop, 0, rainfall_frequency, porosity]])
    input_data[:, 2] = scaler.transform(input_data[:, 2].reshape(-1, 1))
    prediction = stacking_model.predict(input_data)
    recommended_crop = label_encoders["Recommended Crop"].inverse_transform(prediction)
    return recommended_crop[0]

# Take user input with NLP processing
soil_type = process_input(input("Enter Soil Type: "), "Soil Type")
previous_crop = process_input(input("Enter Previous Crop: "), "Previous Crop")
rainfall_frequency = process_input(input("Enter Rainfall Frequency: "), "Rainfall Frequency")
porosity = process_input(input("Enter Porosity: "), "Porosity")

# Recommend crop
recommended_crop = recommend_crop(soil_type, previous_crop, rainfall_frequency, porosity)
print(f"Recommended Crop: {recommended_crop}")
