import pandas as pd
import numpy as np
import tensorflow as tf
from tensorflow import keras
from sklearn.model_selection import train_test_split
from sklearn.preprocessing import LabelEncoder, StandardScaler
from sklearn.metrics import accuracy_score
from fuzzywuzzy import process  # For fuzzy matching

# Load dataset
file_path = "C:/Users/muthu/Downloads/archive (13)/DATASET - Sheet1.csv"
df = pd.read_csv(file_path)

# Convert Temperature range to numeric (mean of the range)
df["TEMPERATURE"] = df["TEMPERATURE"].apply(lambda x: sum(map(int, x.split('-'))) / 2)
# Encode categorical columns
label_encoders = {}
valid_values = {}  # Store valid values for NLP corrections
for col in ["CROP TYPE", "SOIL TYPE", "REGION", "WEATHER CONDITION"]:
    le = LabelEncoder()
    df[col] = le.fit_transform(df[col])
    label_encoders[col] = le  # Store encoders for future use
    valid_values[col] = list(le.classes_)  # Save valid values for NLP correction

# Convert Water Requirement into Categories
def categorize_water(x):
    if x <= 5:
        return "Low"
    elif 6 <= x <= 10:
        return "Medium"
    else:
        return "High"
df["WATER_CATEGORY"] = df["WATER REQUIREMENT"].apply(categorize_water)

# Encode Water Requirement Classes
le_water = LabelEncoder()
df["WATER_CATEGORY"] = le_water.fit_transform(df["WATER_CATEGORY"])

# Store the mapping of category to numerical range
category_to_range = {
    "Low": (1, 5),
    "Medium": (6, 10),
    "High": (11, 20)  # Adjust based on your dataset
}

# Split dataset into features (X) and target (y)
X = df.drop(columns=["WATER REQUIREMENT", "WATER_CATEGORY"])  # Features
y = df["WATER_CATEGORY"]  # Target variable (Classification)

# Train-test split (80% train, 20% test)
X_train, X_test, y_train, y_test = train_test_split(X, y, test_size=0.2, random_state=42)
# Feature Scaling
scaler = StandardScaler()
X_train = scaler.fit_transform(X_train)
X_test = scaler.transform(X_test)

# Build Neural Network Classification Model
model = keras.Sequential([
    keras.layers.Dense(128, activation='relu', input_shape=(X_train.shape[1],)),
    keras.layers.Dropout(0.2),
    keras.layers.Dense(64, activation='relu'),
    keras.layers.Dropout(0.2),
    keras.layers.Dense(32, activation='relu'),
    keras.layers.Dense(3, activation='softmax')  # 3 Output Classes
])

# Compile the model
model.compile(optimizer='adam', loss='sparse_categorical_crossentropy', metrics=['accuracy'])

# Train the model
history = model.fit(X_train, y_train, epochs=100, batch_size=32, validation_data=(X_test, y_test), verbose=1)

# Predict on test data
y_pred_nn = np.argmax(model.predict(X_test), axis=1)

# Evaluate Model Performance
accuracy = accuracy_score(y_test, y_pred_nn)
print(f"Neural Network Classification Accuracy: {accuracy:.2f}")
### FUNCTION: NLP-Based Water Requirement Prediction ###
def recommend_water_requirement():
    # Ask user for input
    crop_type = input("Enter Crop Type: ").strip().lower()
    soil_type = input("Enter Soil Type: ").strip().lower()
    region = input("Enter Region: ").strip().lower()
    temperature_input = input("Enter Temperature (or range like 30-40): ").strip()
    weather_condition = input("Enter Weather Condition: ").strip().lower()

    # Convert temperature to numeric (mean of range)
    try:
        if "-" in temperature_input:
            temp_values = list(map(int, temperature_input.split('-')))
            temperature = sum(temp_values) / len(temp_values)  # Average of range
        else:
            temperature = float(temperature_input)  # Single value case
    except ValueError:
        print("Invalid temperature format! Enter a number or range like 30-40.")
        return

    # NLP Correction: Use fuzzy matching to fix spelling mistakes
    def correct_spelling(user_input, category):
        best_match, score = process.extractOne(user_input, valid_values[category])
        if score > 80:  # High similarity threshold
            return best_match
        else:
            print(f"Warning: '{user_input}' not found. Closest match: '{best_match}' (used)")
            return best_match

    crop_type_corrected = correct_spelling(crop_type, "CROP TYPE")
    soil_type_corrected = correct_spelling(soil_type, "SOIL TYPE")
    region_corrected = correct_spelling(region, "REGION")
    weather_corrected = correct_spelling(weather_condition, "WEATHER CONDITION")

    try:
        # Encode corrected categorical inputs
        crop_type_encoded = label_encoders["CROP TYPE"].transform([crop_type_corrected])[0]
        soil_type_encoded = label_encoders["SOIL TYPE"].transform([soil_type_corrected])[0]
        region_encoded = label_encoders["REGION"].transform([region_corrected])[0]
        weather_encoded = label_encoders["WEATHER CONDITION"].transform([weather_corrected])[0]
    except KeyError:
        print("Invalid input! Please check spelling or use values present in the dataset.")
        return

    # Prepare input array
    user_input = np.array([[crop_type_encoded, soil_type_encoded, region_encoded, temperature, weather_encoded]])

    # Scale input
    user_input_scaled = scaler.transform(user_input)

    # Predict Water Requirement Category
    predicted_class = np.argmax(model.predict(user_input_scaled), axis=1)[0]

    # Map categorical prediction to numerical range
    predicted_category = le_water.inverse_transform([predicted_class])[0]
    water_range = category_to_range[predicted_category]

    # Suggest the mid-point of the predicted range as the estimated requirement
    estimated_water_requirement = sum(water_range) / 2

    print(f"Estimated Water Requirement: {estimated_water_requirement:.2f} liters")

# Call function to get user input
recommend_water_requirement()
