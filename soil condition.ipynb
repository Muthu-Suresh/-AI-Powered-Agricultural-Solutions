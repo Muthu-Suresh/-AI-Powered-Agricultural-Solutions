import numpy as np
import pandas as pd
import random
from collections import defaultdict

# Load dataset
file_path = "C:/Users/muthu/Downloads/Crop_recommendation_cleaned (1).csv"
df = pd.read_csv(file_path)

# Extract features and actions
features = ['N', 'P', 'K', 'temperature', 'humidity', 'ph', 'rainfall', 'EC',
            'Calcium', 'Magnesium', 'Sulfur', 'Iron', 'Manganese', 'Zinc', 'Copper', 'Boron', 'Molybdenum', 'CEC']
actions = df['Fertilizer Recommendation'].unique()
# Map fertilizer recommendations to action indexes
action_map = {actions[i]: i for i in range(len(actions))}
reverse_action_map = {i: actions[i] for i in range(len(actions))}

# Q-table
Q_table = defaultdict(lambda: np.zeros(len(actions)))

# RL Parameters
alpha = 0.1   # Learning rate
gamma = 0.9   # Discount factor
epsilon = 0.2 # Exploration-exploitation tradeoff
def get_state(row):
    """Convert row of data into a tuple representing the state."""
    return tuple(row[features])

# Training Q-learning agent
for episode in range(1000):  # 1000 episodes
    for _, row in df.iterrows():
        state = get_state(row)
        if random.uniform(0, 1) < epsilon:
            action = random.choice(list(action_map.values()))
        else:
            action = np.argmax(Q_table[state])
        
        # Reward: +1 if correct, -1 otherwise
        reward = 1 if action_map[row['Fertilizer Recommendation']] == action else -1
        
        next_state = state  # No transition as we train from data
        Q_table[state][action] += alpha * (reward + gamma * np.max(Q_table[next_state]) - Q_table[state][action])
# Function to recommend fertilizer
def recommend_fertilizer(soil_params):
    state = tuple(soil_params)
    action = np.argmax(Q_table[state])
    return reverse_action_map[action]

# Evaluate accuracy
correct_predictions = 0
total_samples = len(df)
for _, row in df.iterrows():
    predicted_fertilizer = recommend_fertilizer(row[features].tolist())
    if predicted_fertilizer == row['Fertilizer Recommendation']:
        correct_predictions += 1

accuracy = (correct_predictions / total_samples) * 100
print(f"Model Accuracy: {accuracy:.2f}%")

# Example prediction
sample = df.iloc[0][features].tolist()
print("Recommended Fertilizer:", recommend_fertilizer(sample))
